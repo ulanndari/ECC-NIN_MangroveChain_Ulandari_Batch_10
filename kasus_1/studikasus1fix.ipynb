{
 "cells": [
  {
   "cell_type": "code",
   "execution_count": 1,
   "id": "771e95ec",
   "metadata": {},
   "outputs": [
    {
     "name": "stdout",
     "output_type": "stream",
     "text": [
      "=== Mangrove Conservation Analysis Report ===\n",
      "\n",
      "Summary:\n",
      "This analysis focuses on the correlation between regulatory factors and three key biodiversity metrics: species count, tree density, and water quality.\n",
      "\n",
      "Conclusion:\n",
      "Stronger positive correlations are observed between clear boundaries or permit approval and biodiversity metrics like species count and tree density. Water quality shows weaker correlations, indicating other external influencing factors.\n"
     ]
    }
   ],
   "source": [
    "import pandas as pd\n",
    "import seaborn as sns\n",
    "import matplotlib.pyplot as plt\n",
    "from sklearn.preprocessing import LabelEncoder\n",
    "\n",
    "# 1. Baca file CSV\n",
    "df = pd.read_csv(\"D:/ECO TECHNO LEADER/MANGROVECHAIN/conservation_db.csv\")\n",
    "\n",
    "# 2. Encode kolom kategorikal\n",
    "label_cols = ['permit_status', 'land_type', 'boundary_defined', 'kualitas_air']\n",
    "for col in label_cols:\n",
    "    if df[col].dtype == 'object':\n",
    "        le = LabelEncoder()\n",
    "        df[col] = le.fit_transform(df[col])\n",
    "\n",
    "# Ganti nama kolom 'kualitas_air' ke 'water_quality' jika ingin seragam\n",
    "df.rename(columns={'kualitas_air': 'water_quality'}, inplace=True)\n",
    "\n",
    "# 3. Hitung matriks korelasi\n",
    "corr_matrix = df.corr(numeric_only=True)\n",
    "\n",
    "# 4. Pilih hanya kolom biodiversity metrics\n",
    "biodiv_cols = ['species_count', 'tree_density', 'water_quality']\n",
    "regulatory_cols = ['permit_status', 'land_type', 'boundary_defined']\n",
    "\n",
    "# Subset hanya baris regulatory dan kolom biodiversity\n",
    "filtered_corr = corr_matrix.loc[regulatory_cols, biodiv_cols]\n",
    "\n",
    "# 5. Buat heatmap\n",
    "plt.figure(figsize=(8, 6))\n",
    "sns.heatmap(filtered_corr, annot=True, cmap=\"coolwarm\", vmin=-1, vmax=1, center=0)\n",
    "plt.title(\"Correlation: Regulatory Factors vs Biodiversity Metrics\")\n",
    "plt.tight_layout()\n",
    "plt.savefig(\"filtered_mangrove_correlation_heatmap.png\")\n",
    "plt.close()\n",
    "\n",
    "# 6. Cetak laporan analisis\n",
    "print(\"=== Mangrove Conservation Analysis Report ===\")\n",
    "print(\"\\nSummary:\")\n",
    "print(\"This analysis focuses on the correlation between regulatory factors and three key biodiversity metrics: species count, tree density, and water quality.\")\n",
    "\n",
    "print(\"\\nConclusion:\")\n",
    "print(\"Stronger positive correlations are observed between clear boundaries or permit approval and biodiversity metrics like species count and tree density. Water quality shows weaker correlations, indicating other external influencing factors.\")\n"
   ]
  }
 ],
 "metadata": {
  "kernelspec": {
   "display_name": "studi_kasus1",
   "language": "python",
   "name": "python3"
  },
  "language_info": {
   "codemirror_mode": {
    "name": "ipython",
    "version": 3
   },
   "file_extension": ".py",
   "mimetype": "text/x-python",
   "name": "python",
   "nbconvert_exporter": "python",
   "pygments_lexer": "ipython3",
   "version": "3.9.23"
  }
 },
 "nbformat": 4,
 "nbformat_minor": 5
}
